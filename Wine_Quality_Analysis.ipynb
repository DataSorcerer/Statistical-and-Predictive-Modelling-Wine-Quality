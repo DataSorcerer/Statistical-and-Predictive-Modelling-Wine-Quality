{
 "cells": [
  {
   "cell_type": "code",
   "execution_count": 1,
   "metadata": {
    "ExecuteTime": {
     "end_time": "2018-06-17T18:46:18.577814Z",
     "start_time": "2018-06-17T18:46:08.123708Z"
    },
    "collapsed": true
   },
   "outputs": [],
   "source": [
    "#Import the necessary packages\n",
    "import pandas as pd\n",
    "import matplotlib.pyplot as plt\n",
    "import numpy as np\n",
    "import matplotlib as mpl\n",
    "import seaborn as sns\n",
    "%matplotlib inline"
   ]
  },
  {
   "cell_type": "markdown",
   "metadata": {},
   "source": [
    "### 1. Data preprocessing and feature engineering\n",
    "\n",
    "We need to merge the data from separate files for red and white wines. In order to identify the type of wine after merging the datasets, we would introduce a new feature *\"wine_type\"*.    "
   ]
  },
  {
   "cell_type": "code",
   "execution_count": 22,
   "metadata": {
    "ExecuteTime": {
     "end_time": "2018-06-17T19:14:42.184233Z",
     "start_time": "2018-06-17T19:14:42.124049Z"
    }
   },
   "outputs": [
    {
     "data": {
      "text/html": [
       "<div>\n",
       "<style>\n",
       "    .dataframe thead tr:only-child th {\n",
       "        text-align: right;\n",
       "    }\n",
       "\n",
       "    .dataframe thead th {\n",
       "        text-align: left;\n",
       "    }\n",
       "\n",
       "    .dataframe tbody tr th {\n",
       "        vertical-align: top;\n",
       "    }\n",
       "</style>\n",
       "<table border=\"1\" class=\"dataframe\">\n",
       "  <thead>\n",
       "    <tr style=\"text-align: right;\">\n",
       "      <th></th>\n",
       "      <th>fixed acidity</th>\n",
       "      <th>volatile acidity</th>\n",
       "      <th>citric acid</th>\n",
       "      <th>residual sugar</th>\n",
       "      <th>chlorides</th>\n",
       "      <th>free sulfur dioxide</th>\n",
       "      <th>total sulfur dioxide</th>\n",
       "      <th>density</th>\n",
       "      <th>pH</th>\n",
       "      <th>sulphates</th>\n",
       "      <th>alcohol</th>\n",
       "      <th>quality</th>\n",
       "      <th>wine_type</th>\n",
       "    </tr>\n",
       "  </thead>\n",
       "  <tbody>\n",
       "    <tr>\n",
       "      <th>0</th>\n",
       "      <td>7.1</td>\n",
       "      <td>0.59</td>\n",
       "      <td>0.01</td>\n",
       "      <td>2.5</td>\n",
       "      <td>0.077</td>\n",
       "      <td>20.0</td>\n",
       "      <td>85.0</td>\n",
       "      <td>0.99746</td>\n",
       "      <td>3.55</td>\n",
       "      <td>0.59</td>\n",
       "      <td>9.8</td>\n",
       "      <td>5</td>\n",
       "      <td>red</td>\n",
       "    </tr>\n",
       "    <tr>\n",
       "      <th>1</th>\n",
       "      <td>6.5</td>\n",
       "      <td>0.26</td>\n",
       "      <td>0.32</td>\n",
       "      <td>16.5</td>\n",
       "      <td>0.045</td>\n",
       "      <td>44.0</td>\n",
       "      <td>166.0</td>\n",
       "      <td>1.00000</td>\n",
       "      <td>3.38</td>\n",
       "      <td>0.46</td>\n",
       "      <td>9.5</td>\n",
       "      <td>6</td>\n",
       "      <td>white</td>\n",
       "    </tr>\n",
       "    <tr>\n",
       "      <th>2</th>\n",
       "      <td>7.7</td>\n",
       "      <td>0.60</td>\n",
       "      <td>0.06</td>\n",
       "      <td>2.0</td>\n",
       "      <td>0.079</td>\n",
       "      <td>19.0</td>\n",
       "      <td>41.0</td>\n",
       "      <td>0.99697</td>\n",
       "      <td>3.39</td>\n",
       "      <td>0.62</td>\n",
       "      <td>10.1</td>\n",
       "      <td>6</td>\n",
       "      <td>red</td>\n",
       "    </tr>\n",
       "  </tbody>\n",
       "</table>\n",
       "</div>"
      ],
      "text/plain": [
       "   fixed acidity  volatile acidity  citric acid  residual sugar  chlorides  \\\n",
       "0            7.1              0.59         0.01             2.5      0.077   \n",
       "1            6.5              0.26         0.32            16.5      0.045   \n",
       "2            7.7              0.60         0.06             2.0      0.079   \n",
       "\n",
       "   free sulfur dioxide  total sulfur dioxide  density    pH  sulphates  \\\n",
       "0                 20.0                  85.0  0.99746  3.55       0.59   \n",
       "1                 44.0                 166.0  1.00000  3.38       0.46   \n",
       "2                 19.0                  41.0  0.99697  3.39       0.62   \n",
       "\n",
       "   alcohol  quality wine_type  \n",
       "0      9.8        5       red  \n",
       "1      9.5        6     white  \n",
       "2     10.1        6       red  "
      ]
     },
     "execution_count": 22,
     "metadata": {},
     "output_type": "execute_result"
    }
   ],
   "source": [
    "dfWhiteWine = pd.read_csv(\"winequality-white.csv\", sep=\";\")\n",
    "dfWhiteWine[\"wine_type\"] = \"white\"\n",
    "dfRedWine = pd.read_csv(\"winequality-red.csv\", sep=\";\")\n",
    "dfRedWine[\"wine_type\"] = \"red\"\n",
    "dfWineQuality = pd.concat([dfWhiteWine, dfRedWine])\n",
    "#Shuffle the records randomly\n",
    "dfWineQuality = dfWineQuality.sample(frac=1, random_state=34).reset_index(drop=True)\n",
    "dfWineQuality.head(n=3)"
   ]
  },
  {
   "cell_type": "markdown",
   "metadata": {},
   "source": [
    "**Transform wine quality to categorical variable**    "
   ]
  },
  {
   "cell_type": "code",
   "execution_count": 9,
   "metadata": {
    "ExecuteTime": {
     "end_time": "2018-06-17T19:04:43.823972Z",
     "start_time": "2018-06-17T19:04:43.809956Z"
    }
   },
   "outputs": [
    {
     "data": {
      "text/plain": [
       "array([6, 5, 7, 8, 4, 3, 9], dtype=int64)"
      ]
     },
     "execution_count": 9,
     "metadata": {},
     "output_type": "execute_result"
    }
   ],
   "source": [
    "dfWineQuality.quality.unique()"
   ]
  },
  {
   "cell_type": "markdown",
   "metadata": {},
   "source": [
    "We notice that wine quality is rated numerically in range [3,9]. We would like to categorize wine quality according to this rating as follows:   \n",
    "1. *High quality:* rating 8,9    \n",
    "2. *Medium quality:* rating 6,7   \n",
    "3. *Low quality:* rating 3,4,5    \n",
    "We create a new feature *\"quality_category\"* based on these categories"
   ]
  },
  {
   "cell_type": "code",
   "execution_count": 23,
   "metadata": {
    "ExecuteTime": {
     "end_time": "2018-06-17T19:14:49.974337Z",
     "start_time": "2018-06-17T19:14:49.950586Z"
    }
   },
   "outputs": [
    {
     "data": {
      "text/plain": [
       "[low, medium, high]\n",
       "Categories (3, object): [low, medium, high]"
      ]
     },
     "execution_count": 23,
     "metadata": {},
     "output_type": "execute_result"
    }
   ],
   "source": [
    "dfWineQuality['quality_category'] = dfWineQuality['quality'].apply(lambda q: 'low'\n",
    "                                                                  if q <= 5 else 'medium'\n",
    "                                                                  if q <= 7 else 'high')\n",
    "#Transform quality_category to a categorical feature \n",
    "#dfWineQuality['quality_category'] = pd.Categorical.from_codes(dfWineQuality['quality'], categories=['low', 'medium', 'high'])\n",
    "dfWineQuality['quality_category'] = dfWineQuality['quality_category'].astype('category')\n",
    "dfWineQuality['quality_category'].unique()"
   ]
  },
  {
   "cell_type": "markdown",
   "metadata": {},
   "source": [
    "### 2. Problem Statement\n",
    "We now formulate the objective of our analysis as prediction of following labels based on other features:   \n",
    "1. Wine Type (Red/ White)   \n",
    "2. Wine Quality (low/ medium/ high)    "
   ]
  },
  {
   "cell_type": "markdown",
   "metadata": {},
   "source": [
    "### 3. Statistical Analysis     \n",
    "We start by visualising and statistically analysing various features of the wine    \n",
    "### 3.1. Descriptive Statistics   \n",
    "We explore the sample distribution, mean, median, standard deviation and other statistics for the features\n",
    "\n",
    "**(1) Distribution by wine type**   \n",
    "We find that we have an unequal number of samples of white and red wines. We need to keep this in mind as we build and intrepret any statistical model with this data in future."
   ]
  },
  {
   "cell_type": "code",
   "execution_count": 57,
   "metadata": {
    "ExecuteTime": {
     "end_time": "2018-06-17T19:39:44.333716Z",
     "start_time": "2018-06-17T19:39:44.161573Z"
    }
   },
   "outputs": [
    {
     "data": {
      "text/plain": [
       "<matplotlib.axes._subplots.AxesSubplot at 0x177100bea20>"
      ]
     },
     "execution_count": 57,
     "metadata": {},
     "output_type": "execute_result"
    },
    {
     "data": {
      "image/png": "[encoded data removed]",
      "text/plain": [
       "<matplotlib.figure.Figure at 0x177100d2be0>"
      ]
     },
     "metadata": {},
     "output_type": "display_data"
    }
   ],
   "source": [
    "df = dfWineQuality.groupby('wine_type').count().reset_index().iloc[:,[0,1]]\n",
    "df = df.T\n",
    "df.columns = [\"red\", \"white\"]\n",
    "df = df.reset_index().T.iloc[1:,1:]\n",
    "df.columns = ['Wine Type']\n",
    "df.plot.bar()"
   ]
  },
  {
   "cell_type": "markdown",
   "metadata": {},
   "source": [
    "**(2) Summary of statistics (by Wine Types) **    \n",
    "We calculate and summarize various descriptive statistics of wine features those could be useful in our objective of prediction modelling. We group these statistics according to wine types (Red or White)"
   ]
  },
  {
   "cell_type": "code",
   "execution_count": 60,
   "metadata": {
    "ExecuteTime": {
     "end_time": "2018-06-17T19:53:29.884169Z",
     "start_time": "2018-06-17T19:53:29.821394Z"
    },
    "scrolled": true
   },
   "outputs": [
    {
     "data": {
      "text/html": [
       "<div>\n",
       "<style>\n",
       "    .dataframe thead tr:only-child th {\n",
       "        text-align: right;\n",
       "    }\n",
       "\n",
       "    .dataframe thead th {\n",
       "        text-align: left;\n",
       "    }\n",
       "\n",
       "    .dataframe tbody tr th {\n",
       "        vertical-align: top;\n",
       "    }\n",
       "</style>\n",
       "<table border=\"1\" class=\"dataframe\">\n",
       "  <thead>\n",
       "    <tr>\n",
       "      <th></th>\n",
       "      <th colspan=\"6\" halign=\"left\">Statistics - White wine</th>\n",
       "      <th colspan=\"6\" halign=\"left\">Statistics - Red wine</th>\n",
       "    </tr>\n",
       "    <tr>\n",
       "      <th></th>\n",
       "      <th>residual sugar</th>\n",
       "      <th>total sulfur dioxide</th>\n",
       "      <th>sulphates</th>\n",
       "      <th>alcohol</th>\n",
       "      <th>volatile acidity</th>\n",
       "      <th>quality</th>\n",
       "      <th>residual sugar</th>\n",
       "      <th>total sulfur dioxide</th>\n",
       "      <th>sulphates</th>\n",
       "      <th>alcohol</th>\n",
       "      <th>volatile acidity</th>\n",
       "      <th>quality</th>\n",
       "    </tr>\n",
       "  </thead>\n",
       "  <tbody>\n",
       "    <tr>\n",
       "      <th>count</th>\n",
       "      <td>4898.00</td>\n",
       "      <td>4898.00</td>\n",
       "      <td>4898.00</td>\n",
       "      <td>4898.00</td>\n",
       "      <td>4898.00</td>\n",
       "      <td>4898.00</td>\n",
       "      <td>1599.00</td>\n",
       "      <td>1599.00</td>\n",
       "      <td>1599.00</td>\n",
       "      <td>1599.00</td>\n",
       "      <td>1599.00</td>\n",
       "      <td>1599.00</td>\n",
       "    </tr>\n",
       "    <tr>\n",
       "      <th>mean</th>\n",
       "      <td>6.39</td>\n",
       "      <td>138.36</td>\n",
       "      <td>0.49</td>\n",
       "      <td>10.51</td>\n",
       "      <td>0.28</td>\n",
       "      <td>5.88</td>\n",
       "      <td>2.54</td>\n",
       "      <td>46.47</td>\n",
       "      <td>0.66</td>\n",
       "      <td>10.42</td>\n",
       "      <td>0.53</td>\n",
       "      <td>5.64</td>\n",
       "    </tr>\n",
       "    <tr>\n",
       "      <th>std</th>\n",
       "      <td>5.07</td>\n",
       "      <td>42.50</td>\n",
       "      <td>0.11</td>\n",
       "      <td>1.23</td>\n",
       "      <td>0.10</td>\n",
       "      <td>0.89</td>\n",
       "      <td>1.41</td>\n",
       "      <td>32.90</td>\n",
       "      <td>0.17</td>\n",
       "      <td>1.07</td>\n",
       "      <td>0.18</td>\n",
       "      <td>0.81</td>\n",
       "    </tr>\n",
       "    <tr>\n",
       "      <th>min</th>\n",
       "      <td>0.60</td>\n",
       "      <td>9.00</td>\n",
       "      <td>0.22</td>\n",
       "      <td>8.00</td>\n",
       "      <td>0.08</td>\n",
       "      <td>3.00</td>\n",
       "      <td>0.90</td>\n",
       "      <td>6.00</td>\n",
       "      <td>0.33</td>\n",
       "      <td>8.40</td>\n",
       "      <td>0.12</td>\n",
       "      <td>3.00</td>\n",
       "    </tr>\n",
       "    <tr>\n",
       "      <th>25%</th>\n",
       "      <td>1.70</td>\n",
       "      <td>108.00</td>\n",
       "      <td>0.41</td>\n",
       "      <td>9.50</td>\n",
       "      <td>0.21</td>\n",
       "      <td>5.00</td>\n",
       "      <td>1.90</td>\n",
       "      <td>22.00</td>\n",
       "      <td>0.55</td>\n",
       "      <td>9.50</td>\n",
       "      <td>0.39</td>\n",
       "      <td>5.00</td>\n",
       "    </tr>\n",
       "    <tr>\n",
       "      <th>50%</th>\n",
       "      <td>5.20</td>\n",
       "      <td>134.00</td>\n",
       "      <td>0.47</td>\n",
       "      <td>10.40</td>\n",
       "      <td>0.26</td>\n",
       "      <td>6.00</td>\n",
       "      <td>2.20</td>\n",
       "      <td>38.00</td>\n",
       "      <td>0.62</td>\n",
       "      <td>10.20</td>\n",
       "      <td>0.52</td>\n",
       "      <td>6.00</td>\n",
       "    </tr>\n",
       "    <tr>\n",
       "      <th>75%</th>\n",
       "      <td>9.90</td>\n",
       "      <td>167.00</td>\n",
       "      <td>0.55</td>\n",
       "      <td>11.40</td>\n",
       "      <td>0.32</td>\n",
       "      <td>6.00</td>\n",
       "      <td>2.60</td>\n",
       "      <td>62.00</td>\n",
       "      <td>0.73</td>\n",
       "      <td>11.10</td>\n",
       "      <td>0.64</td>\n",
       "      <td>6.00</td>\n",
       "    </tr>\n",
       "    <tr>\n",
       "      <th>max</th>\n",
       "      <td>65.80</td>\n",
       "      <td>440.00</td>\n",
       "      <td>1.08</td>\n",
       "      <td>14.20</td>\n",
       "      <td>1.10</td>\n",
       "      <td>9.00</td>\n",
       "      <td>15.50</td>\n",
       "      <td>289.00</td>\n",
       "      <td>2.00</td>\n",
       "      <td>14.90</td>\n",
       "      <td>1.58</td>\n",
       "      <td>8.00</td>\n",
       "    </tr>\n",
       "  </tbody>\n",
       "</table>\n",
       "</div>"
      ],
      "text/plain": [
       "      Statistics - White wine                                          \\\n",
       "               residual sugar total sulfur dioxide sulphates  alcohol   \n",
       "count                 4898.00              4898.00   4898.00  4898.00   \n",
       "mean                     6.39               138.36      0.49    10.51   \n",
       "std                      5.07                42.50      0.11     1.23   \n",
       "min                      0.60                 9.00      0.22     8.00   \n",
       "25%                      1.70               108.00      0.41     9.50   \n",
       "50%                      5.20               134.00      0.47    10.40   \n",
       "75%                      9.90               167.00      0.55    11.40   \n",
       "max                     65.80               440.00      1.08    14.20   \n",
       "\n",
       "                                Statistics - Red wine                       \\\n",
       "      volatile acidity  quality        residual sugar total sulfur dioxide   \n",
       "count          4898.00  4898.00               1599.00              1599.00   \n",
       "mean              0.28     5.88                  2.54                46.47   \n",
       "std               0.10     0.89                  1.41                32.90   \n",
       "min               0.08     3.00                  0.90                 6.00   \n",
       "25%               0.21     5.00                  1.90                22.00   \n",
       "50%               0.26     6.00                  2.20                38.00   \n",
       "75%               0.32     6.00                  2.60                62.00   \n",
       "max               1.10     9.00                 15.50               289.00   \n",
       "\n",
       "                                                    \n",
       "      sulphates  alcohol volatile acidity  quality  \n",
       "count   1599.00  1599.00          1599.00  1599.00  \n",
       "mean       0.66    10.42             0.53     5.64  \n",
       "std        0.17     1.07             0.18     0.81  \n",
       "min        0.33     8.40             0.12     3.00  \n",
       "25%        0.55     9.50             0.39     5.00  \n",
       "50%        0.62    10.20             0.52     6.00  \n",
       "75%        0.73    11.10             0.64     6.00  \n",
       "max        2.00    14.90             1.58     8.00  "
      ]
     },
     "execution_count": 60,
     "metadata": {},
     "output_type": "execute_result"
    }
   ],
   "source": [
    "#Create a subset of features\n",
    "wineFeatures = ['residual sugar', 'total sulfur dioxide', 'sulphates',\n",
    "'alcohol', 'volatile acidity', 'quality']\n",
    "#Round off the features upto 2 decimal places\n",
    "whiteStats =  round(dfWhiteWine[wineFeatures].describe(), 2)\n",
    "redStats = round(dfRedWine[wineFeatures].describe(), 2)\n",
    "#Create a combined table\n",
    "pd.concat([whiteStats, redStats], keys=[\"Statistics - White wine\", \"Statistics - Red wine\"], axis = 1)"
   ]
  },
  {
   "cell_type": "markdown",
   "metadata": {},
   "source": [
    "<i>**Observations:**</i>       \n",
    "1. Mean *residual sugar* and *total sulphur dioxide* content seems to be considerably *higher* in white wine than red win\n",
    "2. Mean *sulphates* and *volatile acidity* is seen to be *lower* for white wines than red ones.    \n",
    "3. Mean alcohol content of both types of wines appears to be similar i.e. around 10%"
   ]
  },
  {
   "cell_type": "markdown",
   "metadata": {},
   "source": [
    "**(3) Summary of statistics (by Wine Quality) **    \n",
    "Now, we group summary statistics as per wine quality."
   ]
  },
  {
   "cell_type": "code",
   "execution_count": 66,
   "metadata": {
    "ExecuteTime": {
     "end_time": "2018-06-17T20:12:42.394426Z",
     "start_time": "2018-06-17T20:12:42.331412Z"
    }
   },
   "outputs": [
    {
     "data": {
      "text/html": [
       "<div>\n",
       "<style>\n",
       "    .dataframe thead tr:only-child th {\n",
       "        text-align: right;\n",
       "    }\n",
       "\n",
       "    .dataframe thead th {\n",
       "        text-align: left;\n",
       "    }\n",
       "\n",
       "    .dataframe tbody tr th {\n",
       "        vertical-align: top;\n",
       "    }\n",
       "</style>\n",
       "<table border=\"1\" class=\"dataframe\">\n",
       "  <thead>\n",
       "    <tr>\n",
       "      <th></th>\n",
       "      <th colspan=\"4\" halign=\"left\">Low quality</th>\n",
       "      <th colspan=\"4\" halign=\"left\">Medium quality</th>\n",
       "      <th colspan=\"4\" halign=\"left\">High quality</th>\n",
       "    </tr>\n",
       "    <tr>\n",
       "      <th></th>\n",
       "      <th>pH</th>\n",
       "      <th>alcohol</th>\n",
       "      <th>volatile acidity</th>\n",
       "      <th>sulphates</th>\n",
       "      <th>pH</th>\n",
       "      <th>alcohol</th>\n",
       "      <th>volatile acidity</th>\n",
       "      <th>sulphates</th>\n",
       "      <th>pH</th>\n",
       "      <th>alcohol</th>\n",
       "      <th>volatile acidity</th>\n",
       "      <th>sulphates</th>\n",
       "    </tr>\n",
       "  </thead>\n",
       "  <tbody>\n",
       "    <tr>\n",
       "      <th>count</th>\n",
       "      <td>2384.00</td>\n",
       "      <td>2384.00</td>\n",
       "      <td>2384.00</td>\n",
       "      <td>2384.00</td>\n",
       "      <td>3915.00</td>\n",
       "      <td>3915.00</td>\n",
       "      <td>3915.00</td>\n",
       "      <td>3915.00</td>\n",
       "      <td>198.00</td>\n",
       "      <td>198.00</td>\n",
       "      <td>198.00</td>\n",
       "      <td>198.00</td>\n",
       "    </tr>\n",
       "    <tr>\n",
       "      <th>mean</th>\n",
       "      <td>3.21</td>\n",
       "      <td>9.87</td>\n",
       "      <td>0.40</td>\n",
       "      <td>0.52</td>\n",
       "      <td>3.22</td>\n",
       "      <td>10.81</td>\n",
       "      <td>0.31</td>\n",
       "      <td>0.54</td>\n",
       "      <td>3.23</td>\n",
       "      <td>11.69</td>\n",
       "      <td>0.29</td>\n",
       "      <td>0.51</td>\n",
       "    </tr>\n",
       "    <tr>\n",
       "      <th>std</th>\n",
       "      <td>0.16</td>\n",
       "      <td>0.84</td>\n",
       "      <td>0.19</td>\n",
       "      <td>0.14</td>\n",
       "      <td>0.16</td>\n",
       "      <td>1.20</td>\n",
       "      <td>0.14</td>\n",
       "      <td>0.15</td>\n",
       "      <td>0.16</td>\n",
       "      <td>1.27</td>\n",
       "      <td>0.12</td>\n",
       "      <td>0.16</td>\n",
       "    </tr>\n",
       "    <tr>\n",
       "      <th>min</th>\n",
       "      <td>2.74</td>\n",
       "      <td>8.00</td>\n",
       "      <td>0.10</td>\n",
       "      <td>0.25</td>\n",
       "      <td>2.72</td>\n",
       "      <td>8.40</td>\n",
       "      <td>0.08</td>\n",
       "      <td>0.22</td>\n",
       "      <td>2.88</td>\n",
       "      <td>8.50</td>\n",
       "      <td>0.12</td>\n",
       "      <td>0.25</td>\n",
       "    </tr>\n",
       "    <tr>\n",
       "      <th>25%</th>\n",
       "      <td>3.11</td>\n",
       "      <td>9.30</td>\n",
       "      <td>0.26</td>\n",
       "      <td>0.44</td>\n",
       "      <td>3.11</td>\n",
       "      <td>9.80</td>\n",
       "      <td>0.21</td>\n",
       "      <td>0.43</td>\n",
       "      <td>3.13</td>\n",
       "      <td>11.00</td>\n",
       "      <td>0.21</td>\n",
       "      <td>0.38</td>\n",
       "    </tr>\n",
       "    <tr>\n",
       "      <th>50%</th>\n",
       "      <td>3.20</td>\n",
       "      <td>9.60</td>\n",
       "      <td>0.34</td>\n",
       "      <td>0.50</td>\n",
       "      <td>3.21</td>\n",
       "      <td>10.80</td>\n",
       "      <td>0.27</td>\n",
       "      <td>0.51</td>\n",
       "      <td>3.23</td>\n",
       "      <td>12.00</td>\n",
       "      <td>0.28</td>\n",
       "      <td>0.48</td>\n",
       "    </tr>\n",
       "    <tr>\n",
       "      <th>75%</th>\n",
       "      <td>3.31</td>\n",
       "      <td>10.40</td>\n",
       "      <td>0.50</td>\n",
       "      <td>0.58</td>\n",
       "      <td>3.33</td>\n",
       "      <td>11.70</td>\n",
       "      <td>0.36</td>\n",
       "      <td>0.61</td>\n",
       "      <td>3.33</td>\n",
       "      <td>12.60</td>\n",
       "      <td>0.35</td>\n",
       "      <td>0.60</td>\n",
       "    </tr>\n",
       "    <tr>\n",
       "      <th>max</th>\n",
       "      <td>3.90</td>\n",
       "      <td>14.90</td>\n",
       "      <td>1.58</td>\n",
       "      <td>2.00</td>\n",
       "      <td>4.01</td>\n",
       "      <td>14.20</td>\n",
       "      <td>1.04</td>\n",
       "      <td>1.95</td>\n",
       "      <td>3.72</td>\n",
       "      <td>14.00</td>\n",
       "      <td>0.85</td>\n",
       "      <td>1.10</td>\n",
       "    </tr>\n",
       "  </tbody>\n",
       "</table>\n",
       "</div>"
      ],
      "text/plain": [
       "      Low quality                                     Medium quality           \\\n",
       "               pH  alcohol volatile acidity sulphates             pH  alcohol   \n",
       "count     2384.00  2384.00          2384.00   2384.00        3915.00  3915.00   \n",
       "mean         3.21     9.87             0.40      0.52           3.22    10.81   \n",
       "std          0.16     0.84             0.19      0.14           0.16     1.20   \n",
       "min          2.74     8.00             0.10      0.25           2.72     8.40   \n",
       "25%          3.11     9.30             0.26      0.44           3.11     9.80   \n",
       "50%          3.20     9.60             0.34      0.50           3.21    10.80   \n",
       "75%          3.31    10.40             0.50      0.58           3.33    11.70   \n",
       "max          3.90    14.90             1.58      2.00           4.01    14.20   \n",
       "\n",
       "                                 High quality                           \\\n",
       "      volatile acidity sulphates           pH alcohol volatile acidity   \n",
       "count          3915.00   3915.00       198.00  198.00           198.00   \n",
       "mean              0.31      0.54         3.23   11.69             0.29   \n",
       "std               0.14      0.15         0.16    1.27             0.12   \n",
       "min               0.08      0.22         2.88    8.50             0.12   \n",
       "25%               0.21      0.43         3.13   11.00             0.21   \n",
       "50%               0.27      0.51         3.23   12.00             0.28   \n",
       "75%               0.36      0.61         3.33   12.60             0.35   \n",
       "max               1.04      1.95         3.72   14.00             0.85   \n",
       "\n",
       "                 \n",
       "      sulphates  \n",
       "count    198.00  \n",
       "mean       0.51  \n",
       "std        0.16  \n",
       "min        0.25  \n",
       "25%        0.38  \n",
       "50%        0.48  \n",
       "75%        0.60  \n",
       "max        1.10  "
      ]
     },
     "execution_count": 66,
     "metadata": {},
     "output_type": "execute_result"
    }
   ],
   "source": [
    "wineFeatures = ['pH', 'alcohol', 'volatile acidity', 'sulphates']\n",
    "lowStats =  round(dfWineQuality[dfWineQuality.quality_category == 'low'][wineFeatures].describe(), 2)\n",
    "mediumStats = round(dfWineQuality[dfWineQuality.quality_category == 'medium'][wineFeatures].describe(), 2)\n",
    "highStats = round(dfWineQuality[dfWineQuality.quality_category == 'high'][wineFeatures].describe(), 2)\n",
    "pd.concat([lowStats, mediumStats, highStats], \n",
    "          keys=[\"Low quality\", \"Medium quality\", \"High quality\"], axis = 1)"
   ]
  },
  {
   "cell_type": "markdown",
   "metadata": {},
   "source": [
    "<i>**Observations:**</i>       \n",
    "1. Mean *volatile acidity* seems to drop as wine quality increases\n",
    "2. Mean *pH* and *sulphates* seem to be consistent irrespective of the wine quality    \n",
    "3. Noticeably, mean *alcohol* content appears to be gradually increasing with wine quality"
   ]
  },
  {
   "cell_type": "markdown",
   "metadata": {},
   "source": [
    "### Work in progress...."
   ]
  }
 ],
 "metadata": {
  "kernelspec": {
   "display_name": "Python 3",
   "language": "python",
   "name": "python3"
  },
  "language_info": {
   "codemirror_mode": {
    "name": "ipython",
    "version": 3
   },
   "file_extension": ".py",
   "mimetype": "text/x-python",
   "name": "python",
   "nbconvert_exporter": "python",
   "pygments_lexer": "ipython3",
   "version": "3.6.3"
  }
 },
 "nbformat": 4,
 "nbformat_minor": 2
}
